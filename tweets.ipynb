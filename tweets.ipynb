{
 "cells": [
  {
   "cell_type": "markdown",
   "metadata": {},
   "source": [
    "# Tweets Sentiment Analysis\n",
    "\n",
    "**Sentiment Analysis**: Social media can be a great place to connect with others and share positive thoughts and experiences. However, it can also be a breeding ground for negativity and hate speech. This project aims to develop a system to rank tweets by kindness in order to promote more positive and supportive online interactions.\n",
    "\n",
    "**Benefits:**\n",
    "\n",
    "The proposed system has the potential to provide a number of benefits, including:\n",
    "\n",
    "- Promoting more positive and supportive online interactions\n",
    "- Reducing the spread of negativity and hate speech\n",
    "- Helping people to find and connect with others who share their values\n",
    "- Making social media a more enjoyable and welcoming place for everyone\n",
    "\n",
    "**Dataset**:\n",
    "\n",
    "1. `tweets.txt` - a list of tweets (one per line)\n",
    "1. `words_positive.txt` - a list of positive words like \"love,\" \"compassion,\" and \"gratitude\"\n",
    "1. `words_negative.txt` - a list of negative words like \"hate,\" \"anger,\" and \"fear\"\n",
    "\n",
    "**Requirements:**\n",
    "\n",
    "The proposed system will use sentiment analysis to identify and rank tweets based on their level of positiveness and negativeness.\n",
    "\n",
    "The system should display the tweets sorted by their score, with the most positive tweets first."
   ]
  },
  {
   "cell_type": "code",
   "execution_count": 9,
   "metadata": {},
   "outputs": [
    {
     "name": "stdout",
     "output_type": "stream",
     "text": [
      "Positive words: ['amazing', 'wonderful']\n",
      "Negative words: []\n"
     ]
    }
   ],
   "source": [
    "with open('tweets.txt', 'r') as ft:\n",
    "    tweets = [line.strip() for line in ft]\n",
    "\n",
    "with open('words_positive.txt', 'r') as f:\n",
    "    positive_words = [line.strip() for line in f]\n",
    "\n",
    "with open('words_negative.txt', 'r') as f:\n",
    "    negative_words = [line.strip() for line in f]\n",
    "\n",
    "tweets_with_score = []\n",
    "for tweet in tweets:\n",
    "    positive_count = sum(1 for word in tweet.split() if word in positive_words)\n",
    "    negative_count = sum(1 for word in tweet.split() if word in negative_words)\n",
    "    score = positive_count - negative_count\n",
    "    tweets_with_score.append((tweet, score))\n",
    "\n",
    "sorted_tweets = sorted(tweets_with_score, key=lambda x: x[1], reverse=True)\n",
    "\n",
    "for tweet in sorted_tweets:\n",
    "    print(f'{tweet}\\n')\n",
    "\n",
    "\n"
   ]
  }
 ],
 "metadata": {
  "kernelspec": {
   "display_name": "Python 3",
   "language": "python",
   "name": "python3"
  },
  "language_info": {
   "codemirror_mode": {
    "name": "ipython",
    "version": 3
   },
   "file_extension": ".py",
   "mimetype": "text/x-python",
   "name": "python",
   "nbconvert_exporter": "python",
   "pygments_lexer": "ipython3",
   "version": "3.9.13"
  }
 },
 "nbformat": 4,
 "nbformat_minor": 2
}
